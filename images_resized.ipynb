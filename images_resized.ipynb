{
 "cells": [
  {
   "cell_type": "code",
   "execution_count": 4,
   "metadata": {},
   "outputs": [],
   "source": [
    "import cv2\n",
    "import numpy as np\n",
    "import os"
   ]
  },
  {
   "cell_type": "code",
   "execution_count": 7,
   "metadata": {},
   "outputs": [],
   "source": [
    "input_path = \"\"\n",
    "output_path = \"\"\n",
    "os.makedirs(output_path,exist_ok=True)\n",
    "list_images = os.listdir(input_path)\n"
   ]
  },
  {
   "cell_type": "code",
   "execution_count": 8,
   "metadata": {},
   "outputs": [],
   "source": [
    "for i in list_images:\n",
    "    img= cv2.imread(os.path.join(input_path,i))\n",
    "    img= cv2.resize(img,(224,224))\n",
    "    cv2.imwrite(os.path.join(output_path,i),img)"
   ]
  }
 ],
 "metadata": {
  "kernelspec": {
   "display_name": "Python 3.10.4 ('thesis')",
   "language": "python",
   "name": "python3"
  },
  "language_info": {
   "codemirror_mode": {
    "name": "ipython",
    "version": 3
   },
   "file_extension": ".py",
   "mimetype": "text/x-python",
   "name": "python",
   "nbconvert_exporter": "python",
   "pygments_lexer": "ipython3",
   "version": "3.9.18"
  },
  "orig_nbformat": 4,
  "vscode": {
   "interpreter": {
    "hash": "75c5e0d01a15a2a8df6b1c0b20367d5991585f146e57ad92f707fee04e33d4d9"
   }
  }
 },
 "nbformat": 4,
 "nbformat_minor": 2
}
